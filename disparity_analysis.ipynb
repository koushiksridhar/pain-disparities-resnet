{
 "cells": [
  {
   "cell_type": "code",
   "execution_count": 2,
   "metadata": {},
   "outputs": [],
   "source": [
    "import pandas as pd"
   ]
  },
  {
   "cell_type": "code",
   "execution_count": null,
   "metadata": {},
   "outputs": [],
   "source": [
    "test_path = './test_path/file.csv'\n",
    "pred_path = './pred_path/file.csv'\n",
    "\n",
    "test_data = pd.read_csv(test_path)\n",
    "predictions = pd.read_csv(pred_path)\n",
    "test_data"
   ]
  },
  {
   "cell_type": "code",
   "execution_count": null,
   "metadata": {},
   "outputs": [],
   "source": [
    "predictions = predictions[['name', 'predicted_WOMAC']]\n",
    "predictions"
   ]
  },
  {
   "cell_type": "code",
   "execution_count": 5,
   "metadata": {},
   "outputs": [],
   "source": [
    "merged_data = test_data.merge(predictions, on='name', how='left')\n",
    "merged_data['predicted_WOMAC'] = merged_data['predicted_WOMAC'].fillna(-1)"
   ]
  },
  {
   "cell_type": "code",
   "execution_count": null,
   "metadata": {},
   "outputs": [],
   "source": [
    "merged_data = merged_data.dropna()\n",
    "merged_data = merged_data[merged_data['predicted_WOMAC'] != -1]\n",
    "merged_data"
   ]
  },
  {
   "cell_type": "code",
   "execution_count": null,
   "metadata": {},
   "outputs": [],
   "source": [
    "results = merged_data.copy()\n",
    "results"
   ]
  },
  {
   "cell_type": "code",
   "execution_count": 8,
   "metadata": {},
   "outputs": [],
   "source": [
    "results.to_csv('./path/to/file.csv', index=False)"
   ]
  },
  {
   "cell_type": "code",
   "execution_count": 9,
   "metadata": {},
   "outputs": [],
   "source": [
    "results = results[['KLG', 'WOMAC','predicted_WOMAC', 'EDCV', 'RACE']].copy().dropna()\n"
   ]
  },
  {
   "cell_type": "markdown",
   "metadata": {},
   "source": [
    "### calculate mean pain score across race"
   ]
  },
  {
   "cell_type": "code",
   "execution_count": null,
   "metadata": {},
   "outputs": [],
   "source": [
    "results['RACE'].unique()"
   ]
  },
  {
   "cell_type": "code",
   "execution_count": 11,
   "metadata": {},
   "outputs": [],
   "source": [
    "# Assuming df is your DataFrame and 'EDCV' is your column\n",
    "# Create a mapping dictionary\n",
    "mapping_race = {\n",
    "    '1: White or Caucasian': 1,\n",
    "    '2: Black or African American': 0,\n",
    "    '3: Asian': 1,\n",
    "    '0: Other Non-white': 1\n",
    "}\n",
    "\n",
    "# Apply the mapping to the column\n",
    "results['RACE_binary'] = results['RACE'].map(mapping_race)"
   ]
  },
  {
   "cell_type": "code",
   "execution_count": null,
   "metadata": {},
   "outputs": [],
   "source": [
    "mean_pain_white = results[results['RACE_binary'] == 0]['WOMAC'].mean()\n",
    "mean_pain_black = results[results['RACE_binary'] == 1]['WOMAC'].mean()\n",
    "print(mean_pain_white)\n",
    "print(mean_pain_black)\n",
    "\n",
    "race_mean_disparity = abs(mean_pain_black-mean_pain_white)\n",
    "print(f'Mean RACE Disparity: {race_mean_disparity}')"
   ]
  },
  {
   "cell_type": "code",
   "execution_count": null,
   "metadata": {},
   "outputs": [],
   "source": [
    "race_means = results.groupby('RACE')['WOMAC'].mean()\n",
    "race_means"
   ]
  },
  {
   "cell_type": "markdown",
   "metadata": {},
   "source": [
    "### calculate mean pain score across no college vs college\n"
   ]
  },
  {
   "cell_type": "code",
   "execution_count": 14,
   "metadata": {},
   "outputs": [],
   "source": [
    "results['EDCV'].unique()\n",
    "\n",
    "# Assuming df is your DataFrame and 'EDCV' is your column\n",
    "# Create a mapping dictionary\n",
    "mapping_edu = {\n",
    "    '0: Less than high school graduate': 0,\n",
    "    '1: High school graduate': 0,\n",
    "    '2: Some college': 0,\n",
    "    '3: College graduate': 1,\n",
    "    '4: Some graduate school': 1,\n",
    "    '5: Graduate degree': 1\n",
    "}\n",
    "\n",
    "# Apply the mapping to the column\n",
    "results['EDCV_binary'] = results['EDCV'].map(mapping_edu)"
   ]
  },
  {
   "cell_type": "code",
   "execution_count": null,
   "metadata": {},
   "outputs": [],
   "source": [
    "results"
   ]
  },
  {
   "cell_type": "code",
   "execution_count": null,
   "metadata": {},
   "outputs": [],
   "source": [
    "mean_pain_noC = results[results['EDCV_binary'] == 0]['WOMAC'].mean()\n",
    "mean_pain_C = results[results['EDCV_binary'] == 1]['WOMAC'].mean()\n",
    "print(mean_pain_noC)\n",
    "print(mean_pain_C)\n",
    "\n",
    "edu_mean_disparity = abs(mean_pain_C-mean_pain_noC)\n",
    "print(f'Mean EDU Disparity: {edu_mean_disparity}')"
   ]
  },
  {
   "cell_type": "markdown",
   "metadata": {},
   "source": [
    "### calculate mean pain score across income > (0) vs < 50,000 (1)\n"
   ]
  },
  {
   "cell_type": "code",
   "execution_count": 27,
   "metadata": {},
   "outputs": [],
   "source": [
    "results['INCOME2'].unique()\n",
    "\n",
    "# Assuming df is your DataFrame and 'EDCV' is your column\n",
    "# Create a mapping dictionary\n",
    "remap = {\n",
    "    '2: > $50K': 1,\n",
    "    '1: < $50K': 0\n",
    "}\n",
    "\n",
    "# Apply the mapping to the column\n",
    "results['INC_binary'] = results['INCOME2'].map(remap)"
   ]
  },
  {
   "cell_type": "code",
   "execution_count": null,
   "metadata": {},
   "outputs": [],
   "source": [
    "mean_low_inc = results[results['INC_binary'] == 0]['WOMAC'].mean()\n",
    "mean_high_inc = results[results['INC_binary'] == 1]['WOMAC'].mean()\n",
    "print(mean_low_inc)\n",
    "print(mean_high_inc)\n",
    "\n",
    "inc_mean_disparity = abs(mean_high_inc-mean_low_inc)\n",
    "print(f'Mean INC Disparity: {inc_mean_disparity}')"
   ]
  },
  {
   "cell_type": "code",
   "execution_count": null,
   "metadata": {},
   "outputs": [],
   "source": [
    "results"
   ]
  },
  {
   "cell_type": "markdown",
   "metadata": {},
   "source": [
    "## Disparity Analysis"
   ]
  },
  {
   "cell_type": "code",
   "execution_count": 18,
   "metadata": {},
   "outputs": [],
   "source": [
    "import pandas as pd\n",
    "import numpy as np\n",
    "from sklearn.linear_model import LassoCV\n",
    "from sklearn.preprocessing import OneHotEncoder\n",
    "from sklearn.metrics import r2_score\n",
    "\n",
    "def analyze_disparities(df, group_var, severity_var='KLG', pain_var='WOMAC'):\n",
    "    \"\"\"\n",
    "    Analyze pain disparities controlling for osteoarthritis severity\n",
    "    \n",
    "    Args:\n",
    "        df: DataFrame containing the data\n",
    "        group_var: The group variable to analyze (e.g., 'RACE_binary', 'INC_binary')\n",
    "        severity_var: The severity measure to control for ('KLG' or 'predicted_KOOS')\n",
    "        pain_var: The pain measure ('KOOS')\n",
    "    \n",
    "    Returns:\n",
    "        Dictionary with results including coefficient, R-squared, and model\n",
    "    \"\"\"\n",
    "    # Prepare data\n",
    "    X = df[[severity_var, group_var]].copy()\n",
    "    y = df[pain_var]\n",
    "    \n",
    "    # If using KLG as categorical (the alternate approach)\n",
    "    if severity_var == 'KLG':\n",
    "        # One-hot encode KLG (drop first category)\n",
    "        encoder = OneHotEncoder(drop='first', sparse_output=False)\n",
    "        klg_encoded = encoder.fit_transform(X[[severity_var]])\n",
    "        klg_levels = encoder.categories_[0][1:]  # Get level names (excluding first)\n",
    "        \n",
    "        # Create DataFrame with encoded features\n",
    "        klg_df = pd.DataFrame(klg_encoded, \n",
    "                             columns=[f'KLG_{int(level)}' for level in klg_levels],\n",
    "                             index=X.index)\n",
    "        X_encoded = pd.concat([klg_df, X[group_var]], axis=1)\n",
    "    else:\n",
    "        # For predicted_KOOS (continuous), just use as is\n",
    "        X_encoded = X\n",
    "    \n",
    "    # Add intercept\n",
    "    X_encoded['intercept'] = 1\n",
    "    \n",
    "    # Fit Lasso regression with cross-validation\n",
    "    lasso = LassoCV(cv=5, random_state=42)\n",
    "    lasso.fit(X_encoded, y)\n",
    "    \n",
    "    # Get results\n",
    "    results = {\n",
    "        'group_variable': group_var,\n",
    "        'severity_measure': severity_var,\n",
    "        'disparity_coefficient': lasso.coef_[X_encoded.columns.get_loc(group_var)],\n",
    "        'r_squared': r2_score(y, lasso.predict(X_encoded)),\n",
    "        'model': lasso,\n",
    "        'features': X_encoded.columns.tolist(),\n",
    "        'coefficients': dict(zip(X_encoded.columns, lasso.coef_))\n",
    "    }\n",
    "    \n",
    "    return results"
   ]
  },
  {
   "cell_type": "markdown",
   "metadata": {},
   "source": [
    "### Race Disparity"
   ]
  },
  {
   "cell_type": "code",
   "execution_count": null,
   "metadata": {},
   "outputs": [],
   "source": [
    "print(f\"RACE Mean Disparity: {race_mean_disparity:.2f}\")\n",
    "\n",
    "race_klg_results = analyze_disparities(results, 'RACE_binary', 'KLG')\n",
    "print(f\"Race disparity coefficient (controlling for KLG): {abs(race_klg_results['disparity_coefficient']):.2f}\")\n",
    "print(f\"R-squared: {race_klg_results['r_squared']:.3f}\")\n",
    "\n",
    "print('KLG Reduction: ' + str(1 - (abs(race_klg_results['disparity_coefficient']) / race_mean_disparity)))\n",
    "\n",
    "race_pred_results = analyze_disparities(results, 'RACE_binary', 'predicted_WOMAC')\n",
    "print(f\"Race disparity coefficient (controlling for predictions): {abs(race_pred_results['disparity_coefficient']):.2f}\")\n",
    "print(f\"R-squared: {race_pred_results['r_squared']:.3f}\")\n",
    "\n",
    "print('Pred Reduction: ' + str(1 - (abs(race_pred_results['disparity_coefficient'])/ race_mean_disparity)))\n"
   ]
  },
  {
   "cell_type": "markdown",
   "metadata": {},
   "source": [
    "### EDU Disparity Analysis"
   ]
  },
  {
   "cell_type": "code",
   "execution_count": null,
   "metadata": {},
   "outputs": [],
   "source": [
    "print(f\"EDU Mean Disparity: {edu_mean_disparity:.2f}\")\n",
    "\n",
    "edu_klg_results = analyze_disparities(results, 'EDCV_binary', 'KLG')\n",
    "print(f\"Edu disparity coefficient (controlling for KLG): {abs(edu_klg_results['disparity_coefficient']):.2f}\")\n",
    "print(f\"R-squared: {edu_klg_results['r_squared']:.3f}\")\n",
    "\n",
    "print('KLG Reduction: ' + str(1 - (abs(edu_klg_results['disparity_coefficient']) / edu_mean_disparity)))\n",
    "\n",
    "\n",
    "edu_pred_results = analyze_disparities(results, 'EDCV_binary', 'predicted_WOMAC')\n",
    "print(f\"Edu disparity coefficient (controlling for predictions): {abs(edu_pred_results['disparity_coefficient']):.2f}\")\n",
    "print(f\"R-squared: {edu_pred_results['r_squared']:.3f}\")\n",
    "\n",
    "print('Pred Reduction: ' + str(1 - (abs(edu_pred_results['disparity_coefficient']) / edu_mean_disparity)))\n"
   ]
  },
  {
   "cell_type": "markdown",
   "metadata": {},
   "source": [
    "### Income Disparities Analysis"
   ]
  },
  {
   "cell_type": "code",
   "execution_count": null,
   "metadata": {},
   "outputs": [],
   "source": [
    "print(f\"INC Mean Disparity: {inc_mean_disparity:.2f}\")\n",
    "\n",
    "\n",
    "inc_klg_results = analyze_disparities(results, 'INC_binary', 'KLG')\n",
    "print(f\"INC disparity coefficient (controlling for KLG): {abs(inc_klg_results['disparity_coefficient']):.2f}\")\n",
    "print(f\"R-squared: {inc_klg_results['r_squared']:.3f}\")\n",
    "\n",
    "print('KLG Reduction: ' + str(1 - (abs(inc_klg_results['disparity_coefficient'] )/ inc_mean_disparity)))\n",
    "\n",
    "inc_pred_results = analyze_disparities(results, 'INC_binary', 'predicted_WOMAC')\n",
    "print(f\"INC disparity coefficient (controlling for predictions): {abs(inc_pred_results['disparity_coefficient']):.2f}\")\n",
    "print(f\"R-squared: {inc_pred_results['r_squared']:.3f}\")\n",
    "\n",
    "print('Pred Reduction: ' + str(1 - (abs(inc_pred_results['disparity_coefficient']) / inc_mean_disparity)))\n"
   ]
  }
 ],
 "metadata": {
  "kernelspec": {
   "display_name": "UniLMMV",
   "language": "python",
   "name": "python3"
  },
  "language_info": {
   "codemirror_mode": {
    "name": "ipython",
    "version": 3
   },
   "file_extension": ".py",
   "mimetype": "text/x-python",
   "name": "python",
   "nbconvert_exporter": "python",
   "pygments_lexer": "ipython3",
   "version": "3.9.21"
  }
 },
 "nbformat": 4,
 "nbformat_minor": 2
}
